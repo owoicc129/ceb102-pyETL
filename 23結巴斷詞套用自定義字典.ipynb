{
 "cells": [
  {
   "cell_type": "code",
   "execution_count": 1,
   "id": "common-finder",
   "metadata": {},
   "outputs": [],
   "source": [
    "import jieba"
   ]
  },
  {
   "cell_type": "code",
   "execution_count": 2,
   "id": "varied-smooth",
   "metadata": {},
   "outputs": [],
   "source": [
    "s = '大家好，我是小賀，今天來大數據班上課，覺得非常開心'\n",
    "s1 =jieba.cut (s,cut_all =True)\n",
    "s2 =jieba.cut (s,cut_all =False)\n",
    "s3 =jieba.cut (s)\n",
    "s4 =jieba.cut_for_search (s)"
   ]
  },
  {
   "cell_type": "code",
   "execution_count": 3,
   "id": "buried-bottom",
   "metadata": {},
   "outputs": [
    {
     "name": "stderr",
     "output_type": "stream",
     "text": [
      "Building prefix dict from the default dictionary ...\n",
      "Loading model from cache C:\\Users\\CEB10210\\AppData\\Local\\Temp\\jieba.cache\n",
      "Loading model cost 0.649 seconds.\n",
      "Prefix dict has been built successfully.\n"
     ]
    },
    {
     "name": "stdout",
     "output_type": "stream",
     "text": [
      "大家 | 好 | ， | 我 | 是 | 小 | 賀 | ， | 今天 | 來 | 大 | 數 | 據 | 班上 | 課 | ， | 覺 | 得 | 非常 | 開 | 心\n",
      "大家 | 好 | ， | 我 | 是 | 小賀 | ， | 今天 | 來大數 | 據 | 班上 | 課 | ， | 覺得 | 非常 | 開心\n",
      "大家 | 好 | ， | 我 | 是 | 小賀 | ， | 今天 | 來大數 | 據 | 班上 | 課 | ， | 覺得 | 非常 | 開心\n",
      "大家 | 好 | ， | 我 | 是 | 小賀 | ， | 今天 | 來大數 | 據 | 班上 | 課 | ， | 覺得 | 非常 | 開心\n"
     ]
    }
   ],
   "source": [
    "print( ' | '.join(s1))\n",
    "print( ' | '.join(s2))\n",
    "print( ' | '.join(s3))\n",
    "print( ' | '.join(s4))"
   ]
  },
  {
   "cell_type": "code",
   "execution_count": 4,
   "id": "baking-caribbean",
   "metadata": {},
   "outputs": [],
   "source": [
    "jieba.load_userdict('mydict.txt')"
   ]
  },
  {
   "cell_type": "code",
   "execution_count": 5,
   "id": "further-ballot",
   "metadata": {},
   "outputs": [
    {
     "name": "stdout",
     "output_type": "stream",
     "text": [
      "大家 | 好 | ， | 我 | 是 | 小 | 賀 | ， | 今天 | 來 | 大數據 | 大數據班 | 班上 | 課 | ， | 覺 | 得 | 非常 | 開 | 心\n",
      "大家 | 好 | ， | 我 | 是 | 小賀 | ， | 今天 | 來 | 大數據班 | 上課 | ， | 覺得 | 非常 | 開心\n",
      "大家 | 好 | ， | 我 | 是 | 小賀 | ， | 今天 | 來 | 大數據班 | 上課 | ， | 覺得 | 非常 | 開心\n",
      "大家 | 好 | ， | 我 | 是 | 小賀 | ， | 今天 | 來 | 大數據 | 大數據班 | 上課 | ， | 覺得 | 非常 | 開心\n"
     ]
    }
   ],
   "source": [
    "s = '大家好，我是小賀，今天來大數據班上課，覺得非常開心'\n",
    "s1 =jieba.cut (s,cut_all =True)\n",
    "s2 =jieba.cut (s,cut_all =False)\n",
    "s3 =jieba.cut (s)\n",
    "s4 =jieba.cut_for_search (s)\n",
    "\n",
    "print( ' | '.join(s1))\n",
    "print( ' | '.join(s2))\n",
    "print( ' | '.join(s3))\n",
    "print( ' | '.join(s4))"
   ]
  }
 ],
 "metadata": {
  "kernelspec": {
   "display_name": "Python 3",
   "language": "python",
   "name": "python3"
  },
  "language_info": {
   "codemirror_mode": {
    "name": "ipython",
    "version": 3
   },
   "file_extension": ".py",
   "mimetype": "text/x-python",
   "name": "python",
   "nbconvert_exporter": "python",
   "pygments_lexer": "ipython3",
   "version": "3.7.4"
  }
 },
 "nbformat": 4,
 "nbformat_minor": 5
}
